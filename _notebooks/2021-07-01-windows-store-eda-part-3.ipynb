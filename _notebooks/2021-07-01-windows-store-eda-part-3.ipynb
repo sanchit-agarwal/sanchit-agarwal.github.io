{
 "cells": [
  {
   "cell_type": "markdown",
   "id": "p4c0913a",
   "metadata": {},
   "source": [
    "# \"Windows Store dataset Exploatory Data Analysis III\"\n",
    "> \"Exploatory Data Analysis (EDA) on The Windows Store dataset from Kaggle: https://www.kaggle.com/vishnuvarthanrao/windows-store Part 3\"\n",
    "- toc: false\n",
    "- badges: false\n"
   ]
  },
  {
   "cell_type": "markdown",
   "id": "historic-approach",
   "metadata": {
    "papermill": {
     "duration": 0.015371,
     "end_time": "2021-07-01T14:33:23.330763",
     "exception": false,
     "start_time": "2021-07-01T14:33:23.315392",
     "status": "completed"
    },
    "tags": []
   },
   "source": [
    "Hey everyone. With this final part of my analysis of the Windows Store dataset, I will be exploring seasonality patterns for the free apps. You can check out the previous part through the link down below:\n",
    "\n",
    "https://www.kaggle.com/sanchitagarwal/windows-store-eda-2"
   ]
  },
  {
   "cell_type": "code",
   "execution_count": 1,
   "id": "electronic-wedding",
   "metadata": {
    "execution": {
     "iopub.execute_input": "2021-07-01T14:33:23.373129Z",
     "iopub.status.busy": "2021-07-01T14:33:23.372373Z",
     "iopub.status.idle": "2021-07-01T14:33:24.465756Z",
     "shell.execute_reply": "2021-07-01T14:33:24.464535Z",
     "shell.execute_reply.started": "2021-07-01T14:27:53.748775Z"
    },
    "papermill": {
     "duration": 1.120783,
     "end_time": "2021-07-01T14:33:24.465940",
     "exception": false,
     "start_time": "2021-07-01T14:33:23.345157",
     "status": "completed"
    },
    "tags": []
   },
   "outputs": [],
   "source": [
    "import pandas as pd\n",
    "import matplotlib.pyplot as plt\n",
    "import seaborn as sns\n",
    "from matplotlib import dates"
   ]
  },
  {
   "cell_type": "code",
   "execution_count": 2,
   "id": "shared-converter",
   "metadata": {
    "execution": {
     "iopub.execute_input": "2021-07-01T14:33:24.505703Z",
     "iopub.status.busy": "2021-07-01T14:33:24.504914Z",
     "iopub.status.idle": "2021-07-01T14:33:24.592704Z",
     "shell.execute_reply": "2021-07-01T14:33:24.593240Z",
     "shell.execute_reply.started": "2021-07-01T14:27:54.687839Z"
    },
    "papermill": {
     "duration": 0.112534,
     "end_time": "2021-07-01T14:33:24.593416",
     "exception": false,
     "start_time": "2021-07-01T14:33:24.480882",
     "status": "completed"
    },
    "tags": []
   },
   "outputs": [
    {
     "name": "stderr",
     "output_type": "stream",
     "text": [
      "/opt/conda/lib/python3.7/site-packages/ipykernel_launcher.py:18: SettingWithCopyWarning: \n",
      "A value is trying to be set on a copy of a slice from a DataFrame.\n",
      "Try using .loc[row_indexer,col_indexer] = value instead\n",
      "\n",
      "See the caveats in the documentation: https://pandas.pydata.org/pandas-docs/stable/user_guide/indexing.html#returning-a-view-versus-a-copy\n"
     ]
    },
    {
     "data": {
      "text/html": [
       "<div>\n",
       "<style scoped>\n",
       "    .dataframe tbody tr th:only-of-type {\n",
       "        vertical-align: middle;\n",
       "    }\n",
       "\n",
       "    .dataframe tbody tr th {\n",
       "        vertical-align: top;\n",
       "    }\n",
       "\n",
       "    .dataframe thead th {\n",
       "        text-align: right;\n",
       "    }\n",
       "</style>\n",
       "<table border=\"1\" class=\"dataframe\">\n",
       "  <thead>\n",
       "    <tr style=\"text-align: right;\">\n",
       "      <th></th>\n",
       "      <th>Name</th>\n",
       "      <th>Rating</th>\n",
       "      <th>No of people Rated</th>\n",
       "      <th>Category</th>\n",
       "      <th>Date</th>\n",
       "      <th>Price</th>\n",
       "    </tr>\n",
       "  </thead>\n",
       "  <tbody>\n",
       "    <tr>\n",
       "      <th>0</th>\n",
       "      <td>Dynamic Reader</td>\n",
       "      <td>3.5</td>\n",
       "      <td>268</td>\n",
       "      <td>Books</td>\n",
       "      <td>2014-07-01</td>\n",
       "      <td>Free</td>\n",
       "    </tr>\n",
       "    <tr>\n",
       "      <th>1</th>\n",
       "      <td>Chemistry, Organic Chemistry and Biochemistry-...</td>\n",
       "      <td>3.0</td>\n",
       "      <td>627</td>\n",
       "      <td>Books</td>\n",
       "      <td>2014-08-01</td>\n",
       "      <td>Free</td>\n",
       "    </tr>\n",
       "    <tr>\n",
       "      <th>2</th>\n",
       "      <td>BookViewer</td>\n",
       "      <td>3.5</td>\n",
       "      <td>593</td>\n",
       "      <td>Books</td>\n",
       "      <td>2016-02-29</td>\n",
       "      <td>Free</td>\n",
       "    </tr>\n",
       "    <tr>\n",
       "      <th>3</th>\n",
       "      <td>Brick Instructions</td>\n",
       "      <td>3.5</td>\n",
       "      <td>684</td>\n",
       "      <td>Books</td>\n",
       "      <td>2018-01-30</td>\n",
       "      <td>Free</td>\n",
       "    </tr>\n",
       "    <tr>\n",
       "      <th>4</th>\n",
       "      <td>Introduction to Python Programming by GoLearni...</td>\n",
       "      <td>2.0</td>\n",
       "      <td>634</td>\n",
       "      <td>Books</td>\n",
       "      <td>2018-01-30</td>\n",
       "      <td>Free</td>\n",
       "    </tr>\n",
       "  </tbody>\n",
       "</table>\n",
       "</div>"
      ],
      "text/plain": [
       "                                                Name  Rating  \\\n",
       "0                                     Dynamic Reader     3.5   \n",
       "1  Chemistry, Organic Chemistry and Biochemistry-...     3.0   \n",
       "2                                         BookViewer     3.5   \n",
       "3                                 Brick Instructions     3.5   \n",
       "4  Introduction to Python Programming by GoLearni...     2.0   \n",
       "\n",
       "   No of people Rated Category       Date Price  \n",
       "0                 268    Books 2014-07-01  Free  \n",
       "1                 627    Books 2014-08-01  Free  \n",
       "2                 593    Books 2016-02-29  Free  \n",
       "3                 684    Books 2018-01-30  Free  \n",
       "4                 634    Books 2018-01-30  Free  "
      ]
     },
     "execution_count": 2,
     "metadata": {},
     "output_type": "execute_result"
    }
   ],
   "source": [
    "#sql_server = \"142.250.194.132\"\n",
    "#sql_user = \"master\"\n",
    "#sql_pass = \"admin\"\n",
    "\n",
    "#connection = pymssql.connect(sql_server, sql_user, sql_pass, \"master\")\n",
    "\n",
    "#with connection:\n",
    "#    with connection.cursor(as_dict = True) as cursor:\n",
    "#        sql = \"SELECT * FROM windows_store WHERE price = 0.0\"\n",
    "#        cursor.execute(sql)\n",
    "#        result = cursor.fetchall()\n",
    "#        free_app_df = pd.DataFrame(result)\n",
    "        \n",
    "apps_df = pd.read_csv(\"../input/windows-store/msft.csv\")\n",
    "apps_df[\"Price\"].fillna(value = \"Free\", inplace = True)\n",
    "\n",
    "free_app_df  = apps_df.loc[apps_df.Price == \"Free\"]\n",
    "free_app_df[\"Date\"] = pd.to_datetime(free_app_df[\"Date\"])\n",
    "\n",
    "\n",
    "free_app_df.head()       "
   ]
  },
  {
   "cell_type": "code",
   "execution_count": 3,
   "id": "protected-milton",
   "metadata": {
    "execution": {
     "iopub.execute_input": "2021-07-01T14:33:24.632765Z",
     "iopub.status.busy": "2021-07-01T14:33:24.632021Z",
     "iopub.status.idle": "2021-07-01T14:33:24.652385Z",
     "shell.execute_reply": "2021-07-01T14:33:24.651665Z",
     "shell.execute_reply.started": "2021-07-01T14:27:54.777959Z"
    },
    "papermill": {
     "duration": 0.04403,
     "end_time": "2021-07-01T14:33:24.652534",
     "exception": false,
     "start_time": "2021-07-01T14:33:24.608504",
     "status": "completed"
    },
    "tags": []
   },
   "outputs": [
    {
     "data": {
      "text/html": [
       "<div>\n",
       "<style scoped>\n",
       "    .dataframe tbody tr th:only-of-type {\n",
       "        vertical-align: middle;\n",
       "    }\n",
       "\n",
       "    .dataframe tbody tr th {\n",
       "        vertical-align: top;\n",
       "    }\n",
       "\n",
       "    .dataframe thead th {\n",
       "        text-align: right;\n",
       "    }\n",
       "</style>\n",
       "<table border=\"1\" class=\"dataframe\">\n",
       "  <thead>\n",
       "    <tr style=\"text-align: right;\">\n",
       "      <th></th>\n",
       "      <th>Rating</th>\n",
       "      <th>No of people Rated</th>\n",
       "    </tr>\n",
       "  </thead>\n",
       "  <tbody>\n",
       "    <tr>\n",
       "      <th>count</th>\n",
       "      <td>5163.000000</td>\n",
       "      <td>5164.000000</td>\n",
       "    </tr>\n",
       "    <tr>\n",
       "      <th>mean</th>\n",
       "      <td>3.832946</td>\n",
       "      <td>552.030790</td>\n",
       "    </tr>\n",
       "    <tr>\n",
       "      <th>std</th>\n",
       "      <td>0.946165</td>\n",
       "      <td>259.551843</td>\n",
       "    </tr>\n",
       "    <tr>\n",
       "      <th>min</th>\n",
       "      <td>1.000000</td>\n",
       "      <td>100.000000</td>\n",
       "    </tr>\n",
       "    <tr>\n",
       "      <th>25%</th>\n",
       "      <td>3.500000</td>\n",
       "      <td>327.000000</td>\n",
       "    </tr>\n",
       "    <tr>\n",
       "      <th>50%</th>\n",
       "      <td>4.000000</td>\n",
       "      <td>548.500000</td>\n",
       "    </tr>\n",
       "    <tr>\n",
       "      <th>75%</th>\n",
       "      <td>4.500000</td>\n",
       "      <td>778.250000</td>\n",
       "    </tr>\n",
       "    <tr>\n",
       "      <th>max</th>\n",
       "      <td>5.000000</td>\n",
       "      <td>1000.000000</td>\n",
       "    </tr>\n",
       "  </tbody>\n",
       "</table>\n",
       "</div>"
      ],
      "text/plain": [
       "            Rating  No of people Rated\n",
       "count  5163.000000         5164.000000\n",
       "mean      3.832946          552.030790\n",
       "std       0.946165          259.551843\n",
       "min       1.000000          100.000000\n",
       "25%       3.500000          327.000000\n",
       "50%       4.000000          548.500000\n",
       "75%       4.500000          778.250000\n",
       "max       5.000000         1000.000000"
      ]
     },
     "execution_count": 3,
     "metadata": {},
     "output_type": "execute_result"
    }
   ],
   "source": [
    "free_app_df.describe()"
   ]
  },
  {
   "cell_type": "markdown",
   "id": "accessory-steal",
   "metadata": {
    "papermill": {
     "duration": 0.015899,
     "end_time": "2021-07-01T14:33:24.684747",
     "exception": false,
     "start_time": "2021-07-01T14:33:24.668848",
     "status": "completed"
    },
    "tags": []
   },
   "source": [
    "The average RATING for free apps performed hilarousily better than that of paid apps (3.83 > 2.47). This is even more surprising when considering the fact that the statistics for the NO_OF_PEOPLE for both the free apps and the paid apps are almost similar i.e an equal number of people have rated them. This by itself is an interesting question ? What's the reason for this particular column to be almost identical for both the stratas ?"
   ]
  },
  {
   "cell_type": "code",
   "execution_count": 4,
   "id": "atmospheric-circumstances",
   "metadata": {
    "execution": {
     "iopub.execute_input": "2021-07-01T14:33:24.725253Z",
     "iopub.status.busy": "2021-07-01T14:33:24.723742Z",
     "iopub.status.idle": "2021-07-01T14:33:24.730717Z",
     "shell.execute_reply": "2021-07-01T14:33:24.729980Z",
     "shell.execute_reply.started": "2021-07-01T14:27:54.806966Z"
    },
    "papermill": {
     "duration": 0.029859,
     "end_time": "2021-07-01T14:33:24.730862",
     "exception": false,
     "start_time": "2021-07-01T14:33:24.701003",
     "status": "completed"
    },
    "tags": []
   },
   "outputs": [
    {
     "data": {
      "text/plain": [
       "0    4.0\n",
       "dtype: float64"
      ]
     },
     "execution_count": 4,
     "metadata": {},
     "output_type": "execute_result"
    }
   ],
   "source": [
    "free_app_df[\"Rating\"].mode()"
   ]
  },
  {
   "cell_type": "markdown",
   "id": "concrete-alloy",
   "metadata": {
    "papermill": {
     "duration": 0.015246,
     "end_time": "2021-07-01T14:33:24.762952",
     "exception": false,
     "start_time": "2021-07-01T14:33:24.747706",
     "status": "completed"
    },
    "tags": []
   },
   "source": [
    "Have you ever wanted to rate an app but don't feel like giving it a solid 5 ? But you don't want to look bad so you don't want to give it a 3 or lower. So what do you do ? Give it a 4 of course!\n",
    "\n",
    "I wonder if my amatuer psychological deduction is the reason for such observation ?"
   ]
  },
  {
   "cell_type": "code",
   "execution_count": 5,
   "id": "short-indonesian",
   "metadata": {
    "execution": {
     "iopub.execute_input": "2021-07-01T14:33:24.807317Z",
     "iopub.status.busy": "2021-07-01T14:33:24.806068Z",
     "iopub.status.idle": "2021-07-01T14:33:24.833596Z",
     "shell.execute_reply": "2021-07-01T14:33:24.834081Z",
     "shell.execute_reply.started": "2021-07-01T14:27:54.819083Z"
    },
    "papermill": {
     "duration": 0.055725,
     "end_time": "2021-07-01T14:33:24.834291",
     "exception": false,
     "start_time": "2021-07-01T14:33:24.778566",
     "status": "completed"
    },
    "tags": []
   },
   "outputs": [
    {
     "data": {
      "text/plain": [
       "count      5163\n",
       "unique       13\n",
       "top       Music\n",
       "freq        753\n",
       "Name: Category, dtype: object"
      ]
     },
     "execution_count": 5,
     "metadata": {},
     "output_type": "execute_result"
    }
   ],
   "source": [
    "free_app_df.Category.describe()"
   ]
  },
  {
   "cell_type": "code",
   "execution_count": 6,
   "id": "developmental-climb",
   "metadata": {
    "execution": {
     "iopub.execute_input": "2021-07-01T14:33:24.878390Z",
     "iopub.status.busy": "2021-07-01T14:33:24.877678Z",
     "iopub.status.idle": "2021-07-01T14:33:24.882016Z",
     "shell.execute_reply": "2021-07-01T14:33:24.882759Z",
     "shell.execute_reply.started": "2021-07-01T14:27:54.854042Z"
    },
    "papermill": {
     "duration": 0.030417,
     "end_time": "2021-07-01T14:33:24.882976",
     "exception": false,
     "start_time": "2021-07-01T14:33:24.852559",
     "status": "completed"
    },
    "tags": []
   },
   "outputs": [
    {
     "data": {
      "text/plain": [
       "array(['Books', 'Business', 'Developer Tools', 'Social',\n",
       "       'Food and Dining', 'Government and Politics', 'Health and Fitness',\n",
       "       'Kids and Family', 'Lifestyle', 'Multimedia Design', 'Music',\n",
       "       'Navigation and Maps', 'News and Weather', nan], dtype=object)"
      ]
     },
     "execution_count": 6,
     "metadata": {},
     "output_type": "execute_result"
    }
   ],
   "source": [
    "free_app_df[\"Category\"].unique()"
   ]
  },
  {
   "cell_type": "markdown",
   "id": "derived-germany",
   "metadata": {
    "papermill": {
     "duration": 0.016265,
     "end_time": "2021-07-01T14:33:24.916516",
     "exception": false,
     "start_time": "2021-07-01T14:33:24.900251",
     "status": "completed"
    },
    "tags": []
   },
   "source": [
    "For free apps, we can see a phelotra of categories prevailing in the app market, with Music apps being the most popular. \n",
    "\n",
    "You know what! I would like to explore how differently each category of apps have been rated i.e lets found out the mean rating for each category of apps."
   ]
  },
  {
   "cell_type": "code",
   "execution_count": 7,
   "id": "endangered-socket",
   "metadata": {
    "execution": {
     "iopub.execute_input": "2021-07-01T14:33:24.964274Z",
     "iopub.status.busy": "2021-07-01T14:33:24.958355Z",
     "iopub.status.idle": "2021-07-01T14:33:24.968667Z",
     "shell.execute_reply": "2021-07-01T14:33:24.967984Z",
     "shell.execute_reply.started": "2021-07-01T14:27:54.863304Z"
    },
    "papermill": {
     "duration": 0.035258,
     "end_time": "2021-07-01T14:33:24.968816",
     "exception": false,
     "start_time": "2021-07-01T14:33:24.933558",
     "status": "completed"
    },
    "tags": []
   },
   "outputs": [
    {
     "data": {
      "text/html": [
       "<div>\n",
       "<style scoped>\n",
       "    .dataframe tbody tr th:only-of-type {\n",
       "        vertical-align: middle;\n",
       "    }\n",
       "\n",
       "    .dataframe tbody tr th {\n",
       "        vertical-align: top;\n",
       "    }\n",
       "\n",
       "    .dataframe thead th {\n",
       "        text-align: right;\n",
       "    }\n",
       "</style>\n",
       "<table border=\"1\" class=\"dataframe\">\n",
       "  <thead>\n",
       "    <tr style=\"text-align: right;\">\n",
       "      <th></th>\n",
       "      <th>Rating</th>\n",
       "    </tr>\n",
       "    <tr>\n",
       "      <th>Category</th>\n",
       "      <th></th>\n",
       "    </tr>\n",
       "  </thead>\n",
       "  <tbody>\n",
       "    <tr>\n",
       "      <th>Books</th>\n",
       "      <td>3.884793</td>\n",
       "    </tr>\n",
       "    <tr>\n",
       "      <th>Business</th>\n",
       "      <td>3.780702</td>\n",
       "    </tr>\n",
       "    <tr>\n",
       "      <th>Developer Tools</th>\n",
       "      <td>3.952222</td>\n",
       "    </tr>\n",
       "    <tr>\n",
       "      <th>Food and Dining</th>\n",
       "      <td>3.789157</td>\n",
       "    </tr>\n",
       "    <tr>\n",
       "      <th>Government and Politics</th>\n",
       "      <td>4.050000</td>\n",
       "    </tr>\n",
       "    <tr>\n",
       "      <th>Health and Fitness</th>\n",
       "      <td>3.785579</td>\n",
       "    </tr>\n",
       "    <tr>\n",
       "      <th>Kids and Family</th>\n",
       "      <td>3.947826</td>\n",
       "    </tr>\n",
       "    <tr>\n",
       "      <th>Lifestyle</th>\n",
       "      <td>3.850610</td>\n",
       "    </tr>\n",
       "    <tr>\n",
       "      <th>Multimedia Design</th>\n",
       "      <td>3.551282</td>\n",
       "    </tr>\n",
       "    <tr>\n",
       "      <th>Music</th>\n",
       "      <td>3.759628</td>\n",
       "    </tr>\n",
       "    <tr>\n",
       "      <th>Navigation and Maps</th>\n",
       "      <td>3.801948</td>\n",
       "    </tr>\n",
       "    <tr>\n",
       "      <th>News and Weather</th>\n",
       "      <td>3.837474</td>\n",
       "    </tr>\n",
       "    <tr>\n",
       "      <th>Social</th>\n",
       "      <td>3.847561</td>\n",
       "    </tr>\n",
       "  </tbody>\n",
       "</table>\n",
       "</div>"
      ],
      "text/plain": [
       "                           Rating\n",
       "Category                         \n",
       "Books                    3.884793\n",
       "Business                 3.780702\n",
       "Developer Tools          3.952222\n",
       "Food and Dining          3.789157\n",
       "Government and Politics  4.050000\n",
       "Health and Fitness       3.785579\n",
       "Kids and Family          3.947826\n",
       "Lifestyle                3.850610\n",
       "Multimedia Design        3.551282\n",
       "Music                    3.759628\n",
       "Navigation and Maps      3.801948\n",
       "News and Weather         3.837474\n",
       "Social                   3.847561"
      ]
     },
     "execution_count": 7,
     "metadata": {},
     "output_type": "execute_result"
    }
   ],
   "source": [
    "free_app_df[[\"Category\", \"Rating\"]].groupby(\"Category\").mean()"
   ]
  },
  {
   "cell_type": "markdown",
   "id": "worth-cyprus",
   "metadata": {
    "papermill": {
     "duration": 0.017047,
     "end_time": "2021-07-01T14:33:25.004414",
     "exception": false,
     "start_time": "2021-07-01T14:33:24.987367",
     "status": "completed"
    },
    "tags": []
   },
   "source": [
    "Now that's surely a surprise ! The category with the highest rating is \"Government and Politics\", followed by not so surprisingly \"Developer Tools\" and \"Kids and Family\". Needless to say, none of the individual category's rating deviate significantly from the average rating of the free apps (3.83).\n",
    "\n",
    "Now I shall be doing the same visualization tasks as I had done for the paid apps."
   ]
  },
  {
   "cell_type": "code",
   "execution_count": 8,
   "id": "sized-glucose",
   "metadata": {
    "execution": {
     "iopub.execute_input": "2021-07-01T14:33:25.046522Z",
     "iopub.status.busy": "2021-07-01T14:33:25.045648Z",
     "iopub.status.idle": "2021-07-01T14:33:25.369179Z",
     "shell.execute_reply": "2021-07-01T14:33:25.368211Z",
     "shell.execute_reply.started": "2021-07-01T14:27:54.887053Z"
    },
    "papermill": {
     "duration": 0.348635,
     "end_time": "2021-07-01T14:33:25.369543",
     "exception": false,
     "start_time": "2021-07-01T14:33:25.020908",
     "status": "completed"
    },
    "tags": []
   },
   "outputs": [
    {
     "data": {
      "image/png": "[encoded data removed]",
      "text/plain": [
       "<Figure size 1152x504 with 1 Axes>"
      ]
     },
     "metadata": {
      "needs_background": "light"
     },
     "output_type": "display_data"
    }
   ],
   "source": [
    "df_plot_count = free_app_df[[\"Rating\", \"Date\"]].groupby(pd.Grouper(key=\"Date\", freq=\"Y\")).count()\n",
    "\n",
    "plt.figure(figsize=(16,7))\n",
    "plt.title(\"Free apps launched per year\")\n",
    "\n",
    "\n",
    "plot = sns.lineplot(data = df_plot_count)\n",
    "plot.xaxis.set_major_formatter(dates.DateFormatter(\"%Y\"))\n",
    "plot.set(ylabel = \"COUNT\")\n",
    "plot.legend(labels=[\"COUNT\"])\n",
    "\n",
    "plt.show()"
   ]
  },
  {
   "cell_type": "markdown",
   "id": "offshore-deviation",
   "metadata": {
    "papermill": {
     "duration": 0.019199,
     "end_time": "2021-07-01T14:33:25.409848",
     "exception": false,
     "start_time": "2021-07-01T14:33:25.390649",
     "status": "completed"
    },
    "tags": []
   },
   "source": [
    "Interesting indeed! The graph shows that the no of free apps launched peaked in 2017, after which it started to decline. Right now I can't think of anything which could be a precursor to it. If you can think of something then please let me know in the comments. \n",
    "\n",
    "Moving on..."
   ]
  },
  {
   "cell_type": "markdown",
   "id": "hollywood-cassette",
   "metadata": {
    "papermill": {
     "duration": 0.017815,
     "end_time": "2021-07-01T14:33:25.446433",
     "exception": false,
     "start_time": "2021-07-01T14:33:25.428618",
     "status": "completed"
    },
    "tags": []
   },
   "source": [
    "Now I will be exploring seasonality trends for No of people who rated the apps and rating."
   ]
  },
  {
   "cell_type": "code",
   "execution_count": 9,
   "id": "plain-auditor",
   "metadata": {
    "execution": {
     "iopub.execute_input": "2021-07-01T14:33:25.492431Z",
     "iopub.status.busy": "2021-07-01T14:33:25.491709Z",
     "iopub.status.idle": "2021-07-01T14:33:26.311925Z",
     "shell.execute_reply": "2021-07-01T14:33:26.310909Z",
     "shell.execute_reply.started": "2021-07-01T14:27:55.197654Z"
    },
    "papermill": {
     "duration": 0.847135,
     "end_time": "2021-07-01T14:33:26.312077",
     "exception": false,
     "start_time": "2021-07-01T14:33:25.464942",
     "status": "completed"
    },
    "tags": []
   },
   "outputs": [
    {
     "data": {
      "image/png": "[encoded data removed]",
      "text/plain": [
       "<Figure size 1152x504 with 1 Axes>"
      ]
     },
     "metadata": {
      "needs_background": "light"
     },
     "output_type": "display_data"
    }
   ],
   "source": [
    "df_plot_data = free_app_df[[\"Date\", \"No of people Rated\", \"Rating\"]]\n",
    "df_plot_data.set_index(\"Date\", inplace=True)\n",
    "\n",
    "df_plot_data = df_plot_data.groupby(pd.Grouper(freq='M')).mean().dropna(how=\"all\")\n",
    "df_plot_data.sort_index(axis = 0)\n",
    "\n",
    "plt.figure(figsize=(16,7))\n",
    "plt.title(\"No of People Seasonality analysis\")\n",
    "\n",
    "plot = sns.lineplot(data=df_plot_data[\"No of people Rated\"])\n",
    "plot.xaxis.set_minor_locator(dates.MonthLocator())\n",
    "#plot.xaxis.set_major_formatter(dates.DateFormatter(\"%Y\"))\n",
    "\n",
    "plt.show()"
   ]
  },
  {
   "cell_type": "markdown",
   "id": "meaningful-adolescent",
   "metadata": {
    "papermill": {
     "duration": 0.019531,
     "end_time": "2021-07-01T14:33:26.353394",
     "exception": false,
     "start_time": "2021-07-01T14:33:26.333863",
     "status": "completed"
    },
    "tags": []
   },
   "source": [
    "This graph clearly shows that the no of people who have rated the free app started declining from 2012 onwards, with significant drops in the year of 2020. Generally, the range of people rating the app is averaging around 100. This could also indicate that any promotional campaign conducted by Microsoft to increase its app store visibility and to encourage people to rate the apps have not been quite successful."
   ]
  },
  {
   "cell_type": "code",
   "execution_count": 10,
   "id": "congressional-allergy",
   "metadata": {
    "execution": {
     "iopub.execute_input": "2021-07-01T14:33:26.420470Z",
     "iopub.status.busy": "2021-07-01T14:33:26.419797Z",
     "iopub.status.idle": "2021-07-01T14:33:27.329578Z",
     "shell.execute_reply": "2021-07-01T14:33:27.330115Z",
     "shell.execute_reply.started": "2021-07-01T14:27:56.020329Z"
    },
    "papermill": {
     "duration": 0.956969,
     "end_time": "2021-07-01T14:33:27.330313",
     "exception": false,
     "start_time": "2021-07-01T14:33:26.373344",
     "status": "completed"
    },
    "tags": []
   },
   "outputs": [
    {
     "data": {
      "image/png": "[encoded data removed]",
      "text/plain": [
       "<Figure size 1152x504 with 1 Axes>"
      ]
     },
     "metadata": {
      "needs_background": "light"
     },
     "output_type": "display_data"
    }
   ],
   "source": [
    "plt.figure(figsize=(16,7))\n",
    "plt.title(\"Rating Seasonality analysis\")\n",
    "\n",
    "plot = sns.lineplot(data=df_plot_data[\"Rating\"])\n",
    "plot.xaxis.set_minor_locator(dates.MonthLocator())\n",
    "#plot.xaxis.set_major_formatter(dates.DateFormatter(\"%Y\"))\n",
    "\n",
    "plt.show()"
   ]
  },
  {
   "cell_type": "markdown",
   "id": "offensive-outdoors",
   "metadata": {
    "papermill": {
     "duration": 0.024139,
     "end_time": "2021-07-01T14:33:27.378566",
     "exception": false,
     "start_time": "2021-07-01T14:33:27.354427",
     "status": "completed"
    },
    "tags": []
   },
   "source": [
    "On the other hand, the average Rating for free apps have started improving from 2018 onwards. This can be attributed to a key system update of the app store in 2018 which allowed Progressive Web Appilications (Basically app built through web technologies like HTML, CSS and Javascript). Its been documented that implementation of this technology resulted in improvement in KPIs such as average time spend on a page, conversion rate etc."
   ]
  },
  {
   "cell_type": "markdown",
   "id": "mysterious-fetish",
   "metadata": {
    "papermill": {
     "duration": 0.022714,
     "end_time": "2021-07-01T14:33:27.425273",
     "exception": false,
     "start_time": "2021-07-01T14:33:27.402559",
     "status": "completed"
    },
    "tags": []
   },
   "source": [
    "So with this I conclude my analysis of the Windows App Store dataset. I hope you guys like my work and please let me know your suggestions and feedback. See you then!"
   ]
  }
 ],
 "metadata": {
  "kernelspec": {
   "display_name": "Python 3",
   "language": "python",
   "name": "python3"
  },
  "language_info": {
   "codemirror_mode": {
    "name": "ipython",
    "version": 3
   },
   "file_extension": ".py",
   "mimetype": "text/x-python",
   "name": "python",
   "nbconvert_exporter": "python",
   "pygments_lexer": "ipython3",
   "version": "3.9.2"
  },
  "papermill": {
   "default_parameters": {},
   "duration": 16.064044,
   "end_time": "2021-07-01T14:33:28.861133",
   "environment_variables": {},
   "exception": null,
   "input_path": "__notebook__.ipynb",
   "output_path": "__notebook__.ipynb",
   "parameters": {},
   "start_time": "2021-07-01T14:33:12.797089",
   "version": "2.3.3"
  }
 },
 "nbformat": 4,
 "nbformat_minor": 5
}
